{
 "cells": [
  {
   "cell_type": "code",
   "execution_count": 1,
   "id": "929fa5ea",
   "metadata": {},
   "outputs": [],
   "source": [
    "file1 = \"base.js\"\n",
    "file2 = \"1-1.js\""
   ]
  },
  {
   "cell_type": "code",
   "execution_count": 16,
   "id": "5420fd78",
   "metadata": {},
   "outputs": [
    {
     "name": "stdout",
     "output_type": "stream",
     "text": [
      "Coverage book: 1.0\n",
      "Coverage ours: 2.0\n"
     ]
    }
   ],
   "source": [
    "import os\n",
    "import json\n",
    "\n",
    "def file_len(fname):\n",
    "    with open(fname) as f:\n",
    "        for i, l in enumerate(f):\n",
    "            pass\n",
    "    return i + 1\n",
    "\n",
    "stream = os.popen(f\"jsinspect {file1} {file2}\")\n",
    "output = json.loads(stream.read())\n",
    "\n",
    "loc_vi = file_len(file1)\n",
    "loc_vj = file_len(file2)\n",
    "loc_cij = 0\n",
    "\n",
    "for i in range(len(output)):\n",
    "    # Check whether we are not adding things of the same file\n",
    "    prev_path = ''\n",
    "    for j in range(len(output[i]['instances'])):\n",
    "        if prev_path == output[i]['instances'][j]['path']:\n",
    "            continue;\n",
    "        prev_path = output[i]['instances'][j]['path']\n",
    "        line_from = output[i]['instances'][j]['lines'][0] - 1\n",
    "        line_to = output[i]['instances'][j]['lines'][1]\n",
    "        loc_cij += (line_to - line_from)\n",
    "\n",
    "#Coverage book\n",
    "cov_book = loc_cij/(loc_vi + loc_vj)\n",
    "\n",
    "#Coverage ours\n",
    "cov_ours = (loc_cij*2)/(loc_vi + loc_vj)\n",
    "\n",
    "print(f\"Coverage book: {cov_book}\")\n",
    "print(f\"Coverage ours: {cov_ours}\")"
   ]
  }
 ],
 "metadata": {
  "kernelspec": {
   "display_name": "Python 3 (ipykernel)",
   "language": "python",
   "name": "python3"
  },
  "language_info": {
   "codemirror_mode": {
    "name": "ipython",
    "version": 3
   },
   "file_extension": ".py",
   "mimetype": "text/x-python",
   "name": "python",
   "nbconvert_exporter": "python",
   "pygments_lexer": "ipython3",
   "version": "3.9.7"
  }
 },
 "nbformat": 4,
 "nbformat_minor": 5
}
